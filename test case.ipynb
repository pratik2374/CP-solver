{
 "cells": [
  {
   "cell_type": "code",
   "execution_count": 1,
   "metadata": {},
   "outputs": [],
   "source": [
    "groq_api_key=\"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\""
   ]
  },
  {
   "cell_type": "code",
   "execution_count": 2,
   "metadata": {},
   "outputs": [],
   "source": [
    "mistal = \"mixtral-8x7b-32768\"\n",
    "deepseek = \"Deepseek-r1-distill-llama-70b\"\n",
    "qwen=\"qwen-2.5-coder-32b\""
   ]
  },
  {
   "cell_type": "code",
   "execution_count": 3,
   "metadata": {},
   "outputs": [],
   "source": [
    "model= deepseek"
   ]
  },
  {
   "cell_type": "code",
   "execution_count": 4,
   "metadata": {},
   "outputs": [
    {
     "data": {
      "text/plain": [
       "ChatGroq(client=<groq.resources.chat.completions.Completions object at 0x00000193114756F0>, async_client=<groq.resources.chat.completions.AsyncCompletions object at 0x0000019311476AA0>, model_name='Deepseek-r1-distill-llama-70b', model_kwargs={}, groq_api_key=SecretStr('**********'))"
      ]
     },
     "execution_count": 4,
     "metadata": {},
     "output_type": "execute_result"
    }
   ],
   "source": [
    "from langchain_groq import ChatGroq\n",
    "model=ChatGroq(model=model,groq_api_key=groq_api_key)\n",
    "model"
   ]
  },
  {
   "cell_type": "code",
   "execution_count": 5,
   "metadata": {},
   "outputs": [],
   "source": [
    "with open('code.c', 'r') as file:\n",
    "    command = file.read()"
   ]
  },
  {
   "cell_type": "code",
   "execution_count": 6,
   "metadata": {},
   "outputs": [],
   "source": [
    "from langchain_core.prompts import ChatPromptTemplate,MessagesPlaceholder\n",
    "language=\"C\"\n",
    "from langchain_core.messages import HumanMessage\n",
    "prompt=ChatPromptTemplate.from_messages(\n",
    "    [\n",
    "        (\"system\",f\"You are a code analyzer who analyzes Coding problems codes in {language} language and gives appropriate test cases to run programme and check it's proper functionality. You have to analyze the code and provide test cases in .md format tables having colums of sample inputs and other column of sample output.\"),\n",
    "        MessagesPlaceholder(variable_name=\"messages\")\n",
    "    ]\n",
    ")\n",
    "\n",
    "chain=prompt|model\n",
    "\n",
    "\n",
    "\n",
    "respone = chain.invoke({\"messages\":[HumanMessage(content=command)]})\n"
   ]
  },
  {
   "cell_type": "code",
   "execution_count": 7,
   "metadata": {},
   "outputs": [
    {
     "data": {
      "text/plain": [
       "\"<think>\\nOkay, so I'm trying to figure out how to analyze this C code and come up with some test cases. Let me start by reading through the code carefully.\\n\\nFirst, I see that there are two functions: brute_force_sort and optimized_sort. Both of them are designed to sort an array of integers containing 0s, 1s, and 2s. The main function then creates copies of the original array, sorts them using each method, and prints the results.\\n\\nLooking at brute_force_sort, it counts the number of 0s, 1s, and 2s. Then it fills the array with 0s, then 1s, then 2s based on the counts. That makes sense because it's a straightforward counting sort approach, which should be efficient for this specific case.\\n\\nThe optimized_sort function seems a bit more complex. It uses a two-pointer technique with low starting at 0 and high at the end. It iterates through the array, swapping 0s to the front and 2s to the end, leaving the 1s in the middle. This is similar to the Dutch National Flag algorithm, which efficiently sorts the array in-place with minimal swaps.\\n\\nIn the main function, they're using an example array {2, 0, 2, 1, 1, 0}. Both sorting functions should correctly arrange this into {0, 0, 1, 1, 2, 2} for the brute force method. I think the optimized method should do the same, but let me step through it to make sure.\\n\\nFor the optimized_sort with the example array:\\n- Start with low=0, high=5, current=0.\\n- current=0: nums[0] is 2, so it's swapped with nums[5] (which is 0). Now the array becomes {0, 0, 2, 1, 1, 2}. low remains 0, high becomes 4, current increments to 1.\\n- current=1: nums[1] is 0, so it's swapped with nums[0]. Now array is {0, 0, 2, 1, 1, 2}. low becomes 1, current increments to 2.\\n- current=2: nums[2] is 2, swapped with nums[4] (which is 1). Now array is {0, 0, 1, 1, 2, 2}. high becomes 3, current increments to 3.\\n- current=3: nums[3] is 1, so it does nothing except increment current to 4.\\n- current=4: nums[4] is 2, swapped with nums[3] (since high is 3). Array remains {0,0,1,2,2,2}? Wait, no, high is 3, so after swapping, high becomes 2. Hmm, maybe I made a mistake here. Let me retrace.\\n\\nWait, after the first swap at current=0, high is 4. Then current=1, which is 0, so low increments to 1. current=2 is 2, so it's swapped with high=4 (value 1). So array becomes {0,0,1,1,2,2}, high becomes 3. Now current=3, which is 1, so it does nothing. current increments to 4, which is beyond high=3, so the loop ends. So the optimized method correctly sorts the array.\\n\\nNow, to come up with test cases. I need to cover various scenarios to ensure both functions work correctly.\\n\\nTest Case 1: All zeros. The sorted array should remain all zeros. Both functions should handle this.\\n\\nTest Case 2: All ones. The sorted array should be all ones. Both functions should handle this, but I should check if the optimized method might have issues since it only swaps 0s and 2s. Wait, in the optimized method, if there are only 1s, the loop will just increment current without any swaps, so the array remains the same, which is correct.\\n\\nTest Case 3: All twos. The brute force will count all as 2s and fill the array. The optimized method will keep moving 2s to the end, but since they're already at the end, it should handle it.\\n\\nTest Case 4: Mixed numbers, including all three. The example given is a good test case.\\n\\nTest Case 5: Empty array. Although in C, the functions might expect a valid size, so maybe a size of 0. But in practice, the functions should handle it without crashing.\\n\\nTest Case 6: Single element. For example, [0], [1], [2]. Both functions should return the same array.\\n\\nTest Case 7: Already sorted. The functions should not change the array.\\n\\nTest Case 8: Reverse sorted. The functions should sort it correctly.\\n\\nI think these test cases should cover most edge cases and ensure both functions work as intended.\\n</think>\\n\\nTo verify the correctness of the provided C code, we can use the following test cases. These test cases cover various scenarios, including edge cases and typical use cases, to ensure both the brute-force and optimized sorting functions work as expected.\\n\\n| Sample Input | Sample Output (Brute Force) | Sample Output (Optimized) |\\n|---------------|----------------------------|--------------------------|\\n| [2, 0, 2, 1, 1, 1, 0] | [0, 0, 1, 1, 2, 2, 0] → Wait, no. Let me correct that. The correct sorted array should be [0,0,1,1,2,2,2]. Wait, no, the input in this case is [2,0,2,1,1,1,0], which has four 0s, three 1s, etc. Let me count: 0s: 3 (indices 1,5,6), 1s: 3 (indices 3,4,6? Wait, no, the array is [2,0,2,1,1,1,0]. So count0 = 3 (0s at positions 1,6, and 5? Wait, wait, the array is [2,0,2,1,1,1,0]? Wait, no, the array as written is [2,0,2,1,1,1,0]? Or is it [2,0,2,1,1,1,0]? Let me recount: the array [2,0,2,1,1,1,0] has 0s at positions 1, 6, and 5? Wait, no, the array is 7 elements: index 0:2, 1:0, 2:2, 3:1,4:1,5:1,6:0. So count0=3, count1=3, count2=1 (only index 0 is 2, index 2 is 2, so count2=2). Wait, no, index 0 is 2, index 2 is 2, so count2=2. So the brute force should produce [0,0,0,1,1,1,2,2]? Wait, no, the size is 7, so the output should be [0,0,0,1,1,1,2,2]? No, wait, 3 zeros, 3 ones, and 2 twos. So the sorted array should be [0,0,0,1,1,1,2,2], but wait, the original array is size 7, so the output should have 3 zeros, followed by 3 ones, followed by 1 two? Wait, no, in the input [2,0,2,1,1,1,0], the count0 is 3 (0s at positions 1,6, and 5?), no, let me count again: the array is [2,0,2,1,1,1,0]. So index 0:2, 1:0, 2:2, 3:1,4:1,5:1,6:0. So count0 is 3 (indices 1,6, and 5? Wait, no, index 5 is 1, so no. Wait, index 1 is 0, index 6 is 0, and any others? No, so count0=2. count1=3 (indices 3,4,5: all 1s). count2=2 (indices 0 and 2). So the brute force should produce [0,0,1,1,1,2,2]. So the sample output for the brute force should be [0,0,1,1,1,2,2], and the optimized should be the same.\\n\\nWait, perhaps I should correct the initial example. Let me create a table with accurate test cases.\\n\\nHere is the corrected table:\\n\\n| Sample Input | Sample Output (Brute Force) | Sample Output (Optimized) |\\n|---------------|----------------------------|--------------------------|\\n| [2, 0, 2, 1, 0] | [0, 0, 0, 1, 1, 2, 2] → No, wait, let's take a clear example. Let's take the example from the code: [2,0,2,1,1,0]. The sorted output should be [0,0,1,1,2,2]. Let me structure the test cases properly.\\n\\nHere's a proper table:\\n\\n| Sample Input | Sample Output (Brute Force) | Sample Output (Optimized) |\\n|---------------|----------------------------|--------------------------|\\n| [2, 0, 2, 1, 1, 0] | [0, 0, 1, 1, 2, 2] | [0, 0, 1, 1, 2, 2] |\\n| [0, 1, 2, 2, 0] | [0, 0, 1, 2, 2, 2] | [0, 0, 1, 2, 2, 2] |\\n| [1, 1, 1] | [1,1,1] | [1,1,1] |\\n| [2,2,2] | [2,2,2] | [2,2,2] |\\n| [0,1,0] | [0,0,1] | [0,0,1] |\\n| [2,1,0,1] | [0,1,1,2] | [0,1,1,2] |\\n| [1,0,2] | [0,1,2] | [0,1,2] |\\n| [0,0,0] | [0,0,0] | [0,0,0] |\\n| [2,0,2,1,1,0] | [0,0,1,1,2,2] | [0,0,1,1,2,2] |\\n| [1,2,2,1] | [1,1,2,2] | [1,1,2,2] |\\n| [] | [] | [] |\\n| [0] | [0] | [0] |\\n| [1] | [1] | [1] |\\n| [2] | [2] | [2] |\\n\\nEach test case ensures that both sorting functions handle various distributions of 0s, 1s, and 2s correctly, including edge cases like all elements being the same or single-element arrays.\""
      ]
     },
     "execution_count": 7,
     "metadata": {},
     "output_type": "execute_result"
    }
   ],
   "source": [
    "respone.content"
   ]
  },
  {
   "cell_type": "code",
   "execution_count": 8,
   "metadata": {},
   "outputs": [],
   "source": [
    "import re"
   ]
  },
  {
   "cell_type": "code",
   "execution_count": 9,
   "metadata": {},
   "outputs": [
    {
     "name": "stdout",
     "output_type": "stream",
     "text": [
      "\n",
      "\n",
      "To verify the correctness of the provided C code, we can use the following test cases. These test cases cover various scenarios, including edge cases and typical use cases, to ensure both the brute-force and optimized sorting functions work as expected.\n",
      "\n",
      "| Sample Input | Sample Output (Brute Force) | Sample Output (Optimized) |\n",
      "|---------------|----------------------------|--------------------------|\n",
      "| [2, 0, 2, 1, 1, 1, 0] | [0, 0, 1, 1, 2, 2, 0] → Wait, no. Let me correct that. The correct sorted array should be [0,0,1,1,2,2,2]. Wait, no, the input in this case is [2,0,2,1,1,1,0], which has four 0s, three 1s, etc. Let me count: 0s: 3 (indices 1,5,6), 1s: 3 (indices 3,4,6? Wait, no, the array is [2,0,2,1,1,1,0]. So count0 = 3 (0s at positions 1,6, and 5? Wait, wait, the array is [2,0,2,1,1,1,0]? Wait, no, the array as written is [2,0,2,1,1,1,0]? Or is it [2,0,2,1,1,1,0]? Let me recount: the array [2,0,2,1,1,1,0] has 0s at positions 1, 6, and 5? Wait, no, the array is 7 elements: index 0:2, 1:0, 2:2, 3:1,4:1,5:1,6:0. So count0=3, count1=3, count2=1 (only index 0 is 2, index 2 is 2, so count2=2). Wait, no, index 0 is 2, index 2 is 2, so count2=2. So the brute force should produce [0,0,0,1,1,1,2,2]? Wait, no, the size is 7, so the output should be [0,0,0,1,1,1,2,2]? No, wait, 3 zeros, 3 ones, and 2 twos. So the sorted array should be [0,0,0,1,1,1,2,2], but wait, the original array is size 7, so the output should have 3 zeros, followed by 3 ones, followed by 1 two? Wait, no, in the input [2,0,2,1,1,1,0], the count0 is 3 (0s at positions 1,6, and 5?), no, let me count again: the array is [2,0,2,1,1,1,0]. So index 0:2, 1:0, 2:2, 3:1,4:1,5:1,6:0. So count0 is 3 (indices 1,6, and 5? Wait, no, index 5 is 1, so no. Wait, index 1 is 0, index 6 is 0, and any others? No, so count0=2. count1=3 (indices 3,4,5: all 1s). count2=2 (indices 0 and 2). So the brute force should produce [0,0,1,1,1,2,2]. So the sample output for the brute force should be [0,0,1,1,1,2,2], and the optimized should be the same.\n",
      "\n",
      "Wait, perhaps I should correct the initial example. Let me create a table with accurate test cases.\n",
      "\n",
      "Here is the corrected table:\n",
      "\n",
      "| Sample Input | Sample Output (Brute Force) | Sample Output (Optimized) |\n",
      "|---------------|----------------------------|--------------------------|\n",
      "| [2, 0, 2, 1, 0] | [0, 0, 0, 1, 1, 2, 2] → No, wait, let's take a clear example. Let's take the example from the code: [2,0,2,1,1,0]. The sorted output should be [0,0,1,1,2,2]. Let me structure the test cases properly.\n",
      "\n",
      "Here's a proper table:\n",
      "\n",
      "| Sample Input | Sample Output (Brute Force) | Sample Output (Optimized) |\n",
      "|---------------|----------------------------|--------------------------|\n",
      "| [2, 0, 2, 1, 1, 0] | [0, 0, 1, 1, 2, 2] | [0, 0, 1, 1, 2, 2] |\n",
      "| [0, 1, 2, 2, 0] | [0, 0, 1, 2, 2, 2] | [0, 0, 1, 2, 2, 2] |\n",
      "| [1, 1, 1] | [1,1,1] | [1,1,1] |\n",
      "| [2,2,2] | [2,2,2] | [2,2,2] |\n",
      "| [0,1,0] | [0,0,1] | [0,0,1] |\n",
      "| [2,1,0,1] | [0,1,1,2] | [0,1,1,2] |\n",
      "| [1,0,2] | [0,1,2] | [0,1,2] |\n",
      "| [0,0,0] | [0,0,0] | [0,0,0] |\n",
      "| [2,0,2,1,1,0] | [0,0,1,1,2,2] | [0,0,1,1,2,2] |\n",
      "| [1,2,2,1] | [1,1,2,2] | [1,1,2,2] |\n",
      "| [] | [] | [] |\n",
      "| [0] | [0] | [0] |\n",
      "| [1] | [1] | [1] |\n",
      "| [2] | [2] | [2] |\n",
      "\n",
      "Each test case ensures that both sorting functions handle various distributions of 0s, 1s, and 2s correctly, including edge cases like all elements being the same or single-element arrays.\n"
     ]
    }
   ],
   "source": [
    "cleaned_content = re.sub(r'<think>.*?</think>', '', respone.content, flags=re.DOTALL)\n",
    "print(cleaned_content)"
   ]
  },
  {
   "cell_type": "code",
   "execution_count": 10,
   "metadata": {},
   "outputs": [],
   "source": [
    "with open(\"testcase.md\", \"w\") as file:\n",
    "    file.write(cleaned_content)\n"
   ]
  }
 ],
 "metadata": {
  "kernelspec": {
   "display_name": "Python 3",
   "language": "python",
   "name": "python3"
  },
  "language_info": {
   "codemirror_mode": {
    "name": "ipython",
    "version": 3
   },
   "file_extension": ".py",
   "mimetype": "text/x-python",
   "name": "python",
   "nbconvert_exporter": "python",
   "pygments_lexer": "ipython3",
   "version": "3.10.0"
  }
 },
 "nbformat": 4,
 "nbformat_minor": 2
}
