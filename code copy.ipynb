{
 "cells": [
  {
   "cell_type": "code",
   "execution_count": 1,
   "metadata": {},
   "outputs": [],
   "source": [
    "groq_api_key=\"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\""
   ]
  },
  {
   "cell_type": "code",
   "execution_count": 2,
   "metadata": {},
   "outputs": [],
   "source": [
    "mistal = \"mixtral-8x7b-32768\"\n",
    "deepseek = \"Deepseek-r1-distill-llama-70b\"\n",
    "qwen=\"qwen-2.5-coder-32b\""
   ]
  },
  {
   "cell_type": "code",
   "execution_count": 3,
   "metadata": {},
   "outputs": [],
   "source": [
    "model= deepseek"
   ]
  },
  {
   "cell_type": "code",
   "execution_count": 4,
   "metadata": {},
   "outputs": [
    {
     "data": {
      "text/plain": [
       "ChatGroq(client=<groq.resources.chat.completions.Completions object at 0x000001EBB99916F0>, async_client=<groq.resources.chat.completions.AsyncCompletions object at 0x000001EBB9992AA0>, model_name='Deepseek-r1-distill-llama-70b', model_kwargs={}, groq_api_key=SecretStr('**********'))"
      ]
     },
     "execution_count": 4,
     "metadata": {},
     "output_type": "execute_result"
    }
   ],
   "source": [
    "from langchain_groq import ChatGroq\n",
    "model=ChatGroq(model=model,groq_api_key=groq_api_key)\n",
    "model"
   ]
  },
  {
   "cell_type": "code",
   "execution_count": 5,
   "metadata": {},
   "outputs": [],
   "source": [
    "from langchain_core.prompts import ChatPromptTemplate,MessagesPlaceholder\n",
    "language=\"C\"\n",
    "from langchain_core.messages import HumanMessage\n",
    "prompt=ChatPromptTemplate.from_messages(\n",
    "    [\n",
    "        (\"system\",f\"You are a code solver who solves Coding problems in {language} language. You have to solve a problem with two modules brute force and optimized approach approach in single programme. with proper modules and main function.you have to give just code no explantion, no comments is needed.\"),\n",
    "        MessagesPlaceholder(variable_name=\"messages\")\n",
    "    ]\n",
    ")\n",
    "\n",
    "chain=prompt|model\n",
    "\n",
    "respone = chain.invoke({\"messages\":[HumanMessage(content=\n",
    "                                       \"Given an array nums with n objects colored red, white, or blue, sort them in-place so that objects of the same color are adjacent, with the colors in the order red, white, and blue.\"\n",
    "                                        \"We will use the integers 0, 1, and 2 to represent the color red, white, and blue, respectively.\"\n",
    "                                       )\n",
    "                        ]\n",
    "             }\n",
    "            )"
   ]
  },
  {
   "cell_type": "code",
   "execution_count": 6,
   "metadata": {},
   "outputs": [
    {
     "data": {
      "text/plain": [
       "'<think>\\nOkay, so I have this problem where I need to sort an array of colors represented by integers 0, 1, and 2. The goal is to arrange them so that all 0s come first, followed by 1s, and then 2s. And I have to do this in-place, which means I can\\'t use extra space beyond maybe a few variables.\\n\\nHmm, the user mentioned two approaches: brute force and optimized. Let me think about each.\\n\\nFor the brute force method, I suppose the simplest way is to count how many of each color there are and then overwrite the array. Like, count the number of 0s, then 1s, then 2s. Then create a new array or just fill the original one with 0s, 1s, and 2s in order. But wait, since it\\'s in-place, maybe I can just iterate and place them without using extra space. But I\\'m not sure if that\\'s possible without overwriting data I still need.\\n\\nWait, the brute force way might just be to create a new array, but that would require O(n) space, which isn\\'t ideal. But maybe for the sake of the problem, it\\'s acceptable. Alternatively, I can do it in-place by first collecting the counts and then reconstructing the array step by step.\\n\\nThe optimized approach is probably the Dutch National Flag algorithm. I remember that it\\'s used for partitioning the array into three parts efficiently. The idea is to have pointers for the next position to place a 0, a 1, and a 2. Let\\'s see, maybe have a low pointer starting at 0, a high pointer at the end, and a current pointer moving through the array.\\n\\nSo, the algorithm would work like this: as we iterate through each element, if it\\'s a 0, swap it with the element at the low pointer and increment low. If it\\'s a 2, swap it with the element at the high pointer and decrement high. For 1s, we just move to the next element. This way, all 0s end up before 1s, which are before 2s.\\n\\nWait, but how does that work exactly? Let me think of an example. Suppose the array is [2,0,2,1,1,0]. Low starts at 0, high at 5, current at 0.\\n\\n- Current element is 2. So swap with high (index 5, which is 0). Now array becomes [0,0,2,1,1,2]. High decrements to 4.\\n- Current increments to 1. Element is 0. Swap with low (0), so no change. Low increments to 1.\\n- Current is 2. Element is 2. Swap with high (4, which is 1). Array becomes [0,1,2,1,2,2]. High decrements to 3.\\n- Current is 3. Element is 1. So just move on, current becomes 4.\\n- Current is 4. Element is 2. Swap with high (3, which is 1). Array becomes [0,1,2,2,2,2]. High decrements to 2.\\n- Now current is 5, which is beyond high, so we stop.\\n\\nSo the array is correctly sorted. That seems efficient and only requires a single pass with O(1) space.\\n\\nSo for the code, I\\'ll need to write two functions: one for the brute force approach and one for the optimized approach. The main function will take the array and its size, and then call both functions, probably on copies of the original array so that each approach starts with the same data.\\n\\nWait, but in the problem statement, it says to solve it in a single program with two modules, brute force and optimized. So I\\'ll have to structure the code with separate functions for each approach.\\n\\nSo the plan is:\\n\\n1. Read the input array.\\n2. Make copies for each approach so they can sort without interfering.\\n3. Implement the brute force method by counting and reconstructing.\\n4. Implement the optimized method using the Dutch Flag algorithm.\\n5. Print both results.\\n\\nBut the user wants the code without any explanations or comments, so I\\'ll just structure it accordingly.\\n\\nFor the brute force approach:\\n\\n- Count the number of 0s, 1s, 2s.\\n- Then, loop through the array and fill in the 0s first, then 1s, then 2s.\\n\\nFor the optimized approach:\\n\\n- Use three pointers: low, current, high.\\n- Iterate through the array, swapping elements as needed to place 0s, 1s, and 2s in the correct order.\\n\\nNow, let\\'s think about possible edge cases. For example, if the array is already sorted, or all elements are the same, or empty. But the functions should handle these gracefully.\\n\\nI think that\\'s about it. Now, time to write the code accordingly.\\n</think>\\n\\n``` c\\n#include <stdio.h>\\n#include <stdlib.h>\\n\\nvoid brute_force_sort(int* nums, int numsSize) {\\n    int count0 = 0, count1 = 0, count2 = 0;\\n    for (int i = 0; i < numsSize; i++) {\\n        if (nums[i] == 0) count0++;\\n        else if (nums[i] == 1) count1++;\\n        else count2++;\\n    }\\n    int index = 0;\\n    while (count0-- > 0) nums[index++] = 0;\\n    while (count1-- > 0) nums[index++] = 1;\\n    while (count2-- > 0) nums[index++] = 2;\\n}\\n\\nvoid optimized_sort(int* nums, int numsSize) {\\n    int low = 0, high = numsSize - 1, current = 0;\\n    while (current <= high) {\\n        if (nums[current] == 0) {\\n            int temp = nums[low];\\n            nums[low] = nums[current];\\n            nums[current] = temp;\\n            low++;\\n        } else if (nums[current] == 2) {\\n            int temp = nums[high];\\n            nums[high] = nums[current];\\n            nums[current] = temp;\\n            high--;\\n        }\\n        current++;\\n    }\\n}\\n\\nint main() {\\n    int nums[] = {2, 0, 2, 1, 1, 0};\\n    int size = sizeof(nums) / sizeof(nums[0]);\\n    \\n    int* brute_force = (int*)malloc(size * sizeof(int));\\n    for (int i = 0; i < size; i++) brute_force[i] = nums[i];\\n    brute_force_sort(brute_force, size);\\n    \\n    int* optimized = (int*)malloc(size * sizeof(int));\\n    for (int i = 0; i < size; i++) optimized[i] = nums[i];\\n    optimized_sort(optimized, size);\\n    \\n    printf(\"Brute Force Result: \");\\n    for (int i = 0; i < size; i++) printf(\"%d \", brute_force[i]);\\n    printf(\"\\\\n\");\\n    \\n    printf(\"Optimized Result: \");\\n    for (int i = 0; i < size; i++) printf(\"%d \", optimized[i]);\\n    printf(\"\\\\n\");\\n    \\n    free(brute_force);\\n    free(optimized);\\n    return 0;\\n}\\n```'"
      ]
     },
     "execution_count": 6,
     "metadata": {},
     "output_type": "execute_result"
    }
   ],
   "source": [
    "respone.content"
   ]
  },
  {
   "cell_type": "code",
   "execution_count": 7,
   "metadata": {},
   "outputs": [],
   "source": [
    "import re"
   ]
  },
  {
   "cell_type": "code",
   "execution_count": 10,
   "metadata": {},
   "outputs": [
    {
     "name": "stdout",
     "output_type": "stream",
     "text": [
      "#include <stdio.h>\n",
      "#include <stdlib.h>\n",
      "\n",
      "void brute_force_sort(int* nums, int numsSize) {\n",
      "    int count0 = 0, count1 = 0, count2 = 0;\n",
      "    for (int i = 0; i < numsSize; i++) {\n",
      "        if (nums[i] == 0) count0++;\n",
      "        else if (nums[i] == 1) count1++;\n",
      "        else count2++;\n",
      "    }\n",
      "    int index = 0;\n",
      "    while (count0-- > 0) nums[index++] = 0;\n",
      "    while (count1-- > 0) nums[index++] = 1;\n",
      "    while (count2-- > 0) nums[index++] = 2;\n",
      "}\n",
      "\n",
      "void optimized_sort(int* nums, int numsSize) {\n",
      "    int low = 0, high = numsSize - 1, current = 0;\n",
      "    while (current <= high) {\n",
      "        if (nums[current] == 0) {\n",
      "            int temp = nums[low];\n",
      "            nums[low] = nums[current];\n",
      "            nums[current] = temp;\n",
      "            low++;\n",
      "        } else if (nums[current] == 2) {\n",
      "            int temp = nums[high];\n",
      "            nums[high] = nums[current];\n",
      "            nums[current] = temp;\n",
      "            high--;\n",
      "        }\n",
      "        current++;\n",
      "    }\n",
      "}\n",
      "\n",
      "int main() {\n",
      "    int nums[] = {2, 0, 2, 1, 1, 0};\n",
      "    int size = sizeof(nums) / sizeof(nums[0]);\n",
      "    \n",
      "    int* brute_force = (int*)malloc(size * sizeof(int));\n",
      "    for (int i = 0; i < size; i++) brute_force[i] = nums[i];\n",
      "    brute_force_sort(brute_force, size);\n",
      "    \n",
      "    int* optimized = (int*)malloc(size * sizeof(int));\n",
      "    for (int i = 0; i < size; i++) optimized[i] = nums[i];\n",
      "    optimized_sort(optimized, size);\n",
      "    \n",
      "    printf(\"Brute Force Result: \");\n",
      "    for (int i = 0; i < size; i++) printf(\"%d \", brute_force[i]);\n",
      "    printf(\"\\n\");\n",
      "    \n",
      "    printf(\"Optimized Result: \");\n",
      "    for (int i = 0; i < size; i++) printf(\"%d \", optimized[i]);\n",
      "    printf(\"\\n\");\n",
      "    \n",
      "    free(brute_force);\n",
      "    free(optimized);\n",
      "    return 0;\n",
      "}\n"
     ]
    }
   ],
   "source": [
    "cleaned_content = re.search(r'``` c\\n(.*?)\\n```', respone.content, re.DOTALL).group(1)\n",
    "print(cleaned_content)"
   ]
  },
  {
   "cell_type": "code",
   "execution_count": 11,
   "metadata": {},
   "outputs": [],
   "source": [
    "with open(\"code.c\", \"w\") as file:\n",
    "    file.write(cleaned_content)"
   ]
  }
 ],
 "metadata": {
  "kernelspec": {
   "display_name": "venv",
   "language": "python",
   "name": "python3"
  },
  "language_info": {
   "codemirror_mode": {
    "name": "ipython",
    "version": 3
   },
   "file_extension": ".py",
   "mimetype": "text/x-python",
   "name": "python",
   "nbconvert_exporter": "python",
   "pygments_lexer": "ipython3",
   "version": "3.10.0"
  }
 },
 "nbformat": 4,
 "nbformat_minor": 2
}
