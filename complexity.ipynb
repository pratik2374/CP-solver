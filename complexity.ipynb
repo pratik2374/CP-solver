{
 "cells": [
  {
   "cell_type": "code",
   "execution_count": 1,
   "metadata": {},
   "outputs": [],
   "source": [
    "groq_api_key=\"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\""
   ]
  },
  {
   "cell_type": "code",
   "execution_count": 2,
   "metadata": {},
   "outputs": [],
   "source": [
    "mistal = \"mixtral-8x7b-32768\"\n",
    "deepseek = \"Deepseek-r1-distill-llama-70b\"\n",
    "qwen=\"qwen-2.5-coder-32b\""
   ]
  },
  {
   "cell_type": "code",
   "execution_count": 3,
   "metadata": {},
   "outputs": [],
   "source": [
    "model= deepseek"
   ]
  },
  {
   "cell_type": "code",
   "execution_count": 4,
   "metadata": {},
   "outputs": [
    {
     "data": {
      "text/plain": [
       "ChatGroq(client=<groq.resources.chat.completions.Completions object at 0x0000019786E516F0>, async_client=<groq.resources.chat.completions.AsyncCompletions object at 0x0000019786E52AA0>, model_name='Deepseek-r1-distill-llama-70b', model_kwargs={}, groq_api_key=SecretStr('**********'))"
      ]
     },
     "execution_count": 4,
     "metadata": {},
     "output_type": "execute_result"
    }
   ],
   "source": [
    "from langchain_groq import ChatGroq\n",
    "model=ChatGroq(model=model,groq_api_key=groq_api_key)\n",
    "model"
   ]
  },
  {
   "cell_type": "code",
   "execution_count": 5,
   "metadata": {},
   "outputs": [],
   "source": [
    "with open('code.c', 'r') as file:\n",
    "    command = file.read()"
   ]
  },
  {
   "cell_type": "code",
   "execution_count": 11,
   "metadata": {},
   "outputs": [],
   "source": [
    "from langchain_core.prompts import ChatPromptTemplate,MessagesPlaceholder\n",
    "language=\"C\"\n",
    "from langchain_core.messages import HumanMessage\n",
    "prompt=ChatPromptTemplate.from_messages(\n",
    "    [\n",
    "        (\"system\",f\"You are a code analyzer who analyzes Coding problems codes in {language} language. You have to analyze the code and provide the time complexity of need modules by using some maths , text like for this part of loop N and overall n2 something like that.\"),\n",
    "        MessagesPlaceholder(variable_name=\"messages\")\n",
    "    ]\n",
    ")\n",
    "\n",
    "chain=prompt|model\n",
    "\n",
    "\n",
    "\n",
    "respone = chain.invoke({\"messages\":[HumanMessage(content=command)]})\n"
   ]
  },
  {
   "cell_type": "code",
   "execution_count": 12,
   "metadata": {},
   "outputs": [
    {
     "data": {
      "text/plain": [
       "\"<think>\\nOkay, I need to analyze the time complexity for both the brute_force_sort and optimized_sort functions in the provided C code. Let me start by understanding what each function does.\\n\\nLooking at brute_force_sort first. The function seems to be sorting an array of integers where the elements can only be 0, 1, or 2. It uses a counting approach. So, it counts how many 0s, 1s, and 2s are in the array. Then it reconstructs the array by placing all 0s first, followed by 1s, and then 2s.\\n\\nLet me break it down. The first loop runs through the entire array once, which is O(n) where n is the number of elements. Then there are three while loops that overwrite the array with 0s, 1s, and 2s. Each of these loops runs a certain number of times equal to the counts of each number, but overall, the total number of operations is still O(n) because each element is written exactly once. So the entire brute_force_sort function has a time complexity of O(n).\\n\\nNow, looking at optimized_sort. This looks like an in-place sorting algorithm, possibly a variation of the Dutch National Flag algorithm. It uses three pointers: low, high, and current. The idea is to move all 0s to the front, 2s to the end, and 1s in the middle.\\n\\nThe main loop runs while current is less than or equal to high. Inside the loop, if the current element is 0, it swaps it with the element at the low pointer and increments low. If it's 2, it swaps with the high pointer and decrements high. Otherwise, it just moves current forward. Each element is checked once, and each swap operation is O(1). The loop continues until current crosses high, which means all elements have been processed. So the time complexity here is also O(n).\\n\\nWait, but how efficient is this compared to the brute force method? Both are O(n), but the optimized sort is in-place and uses less memory since it doesn't require counting and reconstructing. So in terms of time complexity, they're the same, but optimized_sort is more space-efficient.\\n\\nI should also consider the space complexity. The brute_force_sort creates copies of the array, so it uses O(n) additional space, whereas optimized_sort sorts in-place, using O(1) extra space.\\n\\nSo, to sum up, both functions have a time complexity of O(n), but optimized_sort is more efficient in terms of space.\\n</think>\\n\\nThe time complexity for both sorting functions is analyzed as follows:\\n\\n1. **Brute Force Sort:**\\n   - **Time Complexity:** O(n)\\n     - The function first counts each element in O(n) time.\\n     - It then reconstructs the array in O(n) time.\\n     - Total time is O(n) + O(n) = O(n).\\n   - **Space Complexity:** O(n)\\n     - It creates a copy of the original array.\\n\\n2. **Optimized Sort (Dutch National Flag):**\\n   - **Time Complexity:** O(n)\\n     - Each element is processed exactly once in a single pass.\\n   - **Space Complexity:** O(1)\\n     - The sorting is done in-place with no additional arrays.\\n\\n**Answer:**\\n\\nThe brute force method has a time complexity of O(n) and a space complexity of O(n), while the optimized method also has a time complexity of O(n) but with a space complexity of O(1). Both are efficient for their respective approaches.\""
      ]
     },
     "execution_count": 12,
     "metadata": {},
     "output_type": "execute_result"
    }
   ],
   "source": [
    "respone.content"
   ]
  },
  {
   "cell_type": "code",
   "execution_count": 8,
   "metadata": {},
   "outputs": [],
   "source": [
    "import re"
   ]
  },
  {
   "cell_type": "code",
   "execution_count": 14,
   "metadata": {},
   "outputs": [
    {
     "name": "stdout",
     "output_type": "stream",
     "text": [
      "\n",
      "\n",
      "The time complexity for both sorting functions is analyzed as follows:\n",
      "\n",
      "1. **Brute Force Sort:**\n",
      "   - **Time Complexity:** O(n)\n",
      "     - The function first counts each element in O(n) time.\n",
      "     - It then reconstructs the array in O(n) time.\n",
      "     - Total time is O(n) + O(n) = O(n).\n",
      "   - **Space Complexity:** O(n)\n",
      "     - It creates a copy of the original array.\n",
      "\n",
      "2. **Optimized Sort (Dutch National Flag):**\n",
      "   - **Time Complexity:** O(n)\n",
      "     - Each element is processed exactly once in a single pass.\n",
      "   - **Space Complexity:** O(1)\n",
      "     - The sorting is done in-place with no additional arrays.\n",
      "\n",
      "**Answer:**\n",
      "\n",
      "The brute force method has a time complexity of O(n) and a space complexity of O(n), while the optimized method also has a time complexity of O(n) but with a space complexity of O(1). Both are efficient for their respective approaches.\n"
     ]
    }
   ],
   "source": [
    "cleaned_content = re.sub(r'<think>.*?</think>', '', respone.content, flags=re.DOTALL)\n",
    "print(cleaned_content)"
   ]
  },
  {
   "cell_type": "code",
   "execution_count": 15,
   "metadata": {},
   "outputs": [],
   "source": [
    "with open(\"complexity.txt\", \"w\") as file:\n",
    "    file.write(cleaned_content)\n"
   ]
  }
 ],
 "metadata": {
  "kernelspec": {
   "display_name": "Python 3",
   "language": "python",
   "name": "python3"
  },
  "language_info": {
   "codemirror_mode": {
    "name": "ipython",
    "version": 3
   },
   "file_extension": ".py",
   "mimetype": "text/x-python",
   "name": "python",
   "nbconvert_exporter": "python",
   "pygments_lexer": "ipython3",
   "version": "3.10.0"
  }
 },
 "nbformat": 4,
 "nbformat_minor": 2
}
