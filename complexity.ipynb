{
 "cells": [
  {
   "cell_type": "code",
   "execution_count": 1,
   "metadata": {},
   "outputs": [],
   "source": [
    "groq_api_key=\"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\""
   ]
  },
  {
   "cell_type": "code",
   "execution_count": 2,
   "metadata": {},
   "outputs": [],
   "source": [
    "mistal = \"mixtral-8x7b-32768\"\n",
    "deepseek = \"Deepseek-r1-distill-llama-70b\"\n",
    "qwen=\"qwen-2.5-coder-32b\""
   ]
  },
  {
   "cell_type": "code",
   "execution_count": 3,
   "metadata": {},
   "outputs": [],
   "source": [
    "model= deepseek"
   ]
  },
  {
   "cell_type": "code",
   "execution_count": 4,
   "metadata": {},
   "outputs": [
    {
     "data": {
      "text/plain": [
       "ChatGroq(client=<groq.resources.chat.completions.Completions object at 0x0000019786E516F0>, async_client=<groq.resources.chat.completions.AsyncCompletions object at 0x0000019786E52AA0>, model_name='Deepseek-r1-distill-llama-70b', model_kwargs={}, groq_api_key=SecretStr('**********'))"
      ]
     },
     "execution_count": 4,
     "metadata": {},
     "output_type": "execute_result"
    }
   ],
   "source": [
    "from langchain_groq import ChatGroq\n",
    "model=ChatGroq(model=model,groq_api_key=groq_api_key)\n",
    "model"
   ]
  },
  {
   "cell_type": "code",
   "execution_count": 5,
   "metadata": {},
   "outputs": [],
   "source": [
    "with open('code.c', 'r') as file:\n",
    "    command = file.read()"
   ]
  },
  {
   "cell_type": "code",
   "execution_count": 6,
   "metadata": {},
   "outputs": [],
   "source": [
    "from langchain_core.prompts import ChatPromptTemplate,MessagesPlaceholder\n",
    "language=\"C\"\n",
    "from langchain_core.messages import HumanMessage\n",
    "prompt=ChatPromptTemplate.from_messages(\n",
    "    [\n",
    "        (\"system\",f\"You are a code analyzer who analyzes Coding problems codes in {language} language. You have to analyze the code and provide the time complexity of need modules by using some maths and text.\"),\n",
    "        MessagesPlaceholder(variable_name=\"messages\")\n",
    "    ]\n",
    ")\n",
    "\n",
    "chain=prompt|model\n",
    "\n",
    "\n",
    "\n",
    "respone = chain.invoke({\"messages\":[HumanMessage(content=command)]})\n"
   ]
  },
  {
   "cell_type": "code",
   "execution_count": 7,
   "metadata": {},
   "outputs": [
    {
     "data": {
      "text/plain": [
       "\"<think>\\nOkay, I need to analyze the time complexity of the two sorting modules provided in the C code. Let me start by understanding what each function does.\\n\\nFirst, looking at the brute_force_sort function. It seems to be counting the number of 0s, 1s, and 2s in the array. Then it reconstructs the array by placing all 0s first, followed by 1s, and then 2s. So, the steps are: count each element, then overwrite the array in order.\\n\\nFor the counting part, it's a single loop through the array, which is O(n) time, where n is the number of elements. Then, it writes the 0s, 1s, and 2s in three separate loops. Each of these loops runs a number of times equal to the count of each number, but overall, the total number of operations is still O(n) because each element is written exactly once. So the entire brute_force_sort function is O(n) time complexity.\\n\\nNow, looking at the optimized_sort function. It looks like a variation of the Dutch National Flag algorithm. It uses three pointers: low, current, and high. The low pointer tracks the position where the next 0 should be placed, current is the element being examined, and high is where the next 2 should be placed.\\n\\nThe algorithm works by iterating through the array with current. If it finds a 0, it swaps it with the element at low and increments low. If it finds a 2, it swaps it with the element at high and decrements high. This continues until current exceeds high.\\n\\nLet me think about how many operations this does. Each element is checked once, and each swap might involve some elements being checked again, but overall, each element is processed a constant number of times. So the time complexity should be O(n) as well.\\n\\nWait, but in the worst case, does it still hold? Suppose the array is already sorted. The current pointer will move from start to end, and low and high will adjust accordingly without much swapping. So yes, it's still O(n).\\n\\nSo both functions have a linear time complexity, O(n), which is efficient for sorting an array of 0s, 1s, and 2s. The brute force method uses extra space for counting, but the optimized method does it in-place, making it more space-efficient.\\n\\nI should also consider the space complexity. The brute_force_sort uses additional space to store the counts, which is O(1) since it's just a few integers. The optimized_sort is in-place, so it uses O(1) extra space as well.\\n\\nSo, in conclusion, both sorting methods have a time complexity of O(n) and space complexity of O(1), making them efficient for this specific problem.\\n</think>\\n\\nTo determine the time complexity of the provided sorting modules, let's analyze each function:\\n\\n### 1. Brute Force Sort\\n\\n**Approach:**\\n- **Counting Phase:** Traverse the array once to count occurrences of 0s, 1s, and 2s. This takes O(n) time.\\n- **Reconstruction Phase:** Overwrite the array in three passes (for 0s, 1s, and 2s). Each pass operates in O(n) time, but combined, it's still O(n).\\n\\n**Time Complexity:** O(n)\\n\\n**Space Complexity:** O(1) (additional space for counts)\\n\\n### 2. Optimized Sort (Dutch National Flag Algorithm)\\n\\n**Approach:**\\n- Uses three pointers (low, current, high) to partition the array into 0s, 1s, and 2s in a single pass.\\n- Each element is processed once, leading to O(n) time complexity.\\n\\n**Time Complexity:** O(n)\\n\\n**Space Complexity:** O(1) (in-place sorting)\\n\\n### Conclusion\\n\\nBoth sorting methods achieve an efficient linear time complexity of **O(n)** with constant space complexity **O(1)**, making them optimal for sorting arrays containing only 0s, 1s, and 2s.\\n\\n**Final Answer:**\\n\\nThe time complexity for both the brute force and optimized sorting modules is \\\\boxed{O(n)}.\""
      ]
     },
     "execution_count": 7,
     "metadata": {},
     "output_type": "execute_result"
    }
   ],
   "source": [
    "respone.content"
   ]
  },
  {
   "cell_type": "code",
   "execution_count": 8,
   "metadata": {},
   "outputs": [],
   "source": [
    "import re"
   ]
  },
  {
   "cell_type": "code",
   "execution_count": 9,
   "metadata": {},
   "outputs": [
    {
     "name": "stdout",
     "output_type": "stream",
     "text": [
      "\n",
      "Okay, I need to analyze the time complexity of the two sorting modules provided in the C code. Let me start by understanding what each function does.\n",
      "\n",
      "First, looking at the brute_force_sort function. It seems to be counting the number of 0s, 1s, and 2s in the array. Then it reconstructs the array by placing all 0s first, followed by 1s, and then 2s. So, the steps are: count each element, then overwrite the array in order.\n",
      "\n",
      "For the counting part, it's a single loop through the array, which is O(n) time, where n is the number of elements. Then, it writes the 0s, 1s, and 2s in three separate loops. Each of these loops runs a number of times equal to the count of each number, but overall, the total number of operations is still O(n) because each element is written exactly once. So the entire brute_force_sort function is O(n) time complexity.\n",
      "\n",
      "Now, looking at the optimized_sort function. It looks like a variation of the Dutch National Flag algorithm. It uses three pointers: low, current, and high. The low pointer tracks the position where the next 0 should be placed, current is the element being examined, and high is where the next 2 should be placed.\n",
      "\n",
      "The algorithm works by iterating through the array with current. If it finds a 0, it swaps it with the element at low and increments low. If it finds a 2, it swaps it with the element at high and decrements high. This continues until current exceeds high.\n",
      "\n",
      "Let me think about how many operations this does. Each element is checked once, and each swap might involve some elements being checked again, but overall, each element is processed a constant number of times. So the time complexity should be O(n) as well.\n",
      "\n",
      "Wait, but in the worst case, does it still hold? Suppose the array is already sorted. The current pointer will move from start to end, and low and high will adjust accordingly without much swapping. So yes, it's still O(n).\n",
      "\n",
      "So both functions have a linear time complexity, O(n), which is efficient for sorting an array of 0s, 1s, and 2s. The brute force method uses extra space for counting, but the optimized method does it in-place, making it more space-efficient.\n",
      "\n",
      "I should also consider the space complexity. The brute_force_sort uses additional space to store the counts, which is O(1) since it's just a few integers. The optimized_sort is in-place, so it uses O(1) extra space as well.\n",
      "\n",
      "So, in conclusion, both sorting methods have a time complexity of O(n) and space complexity of O(1), making them efficient for this specific problem.\n",
      "\n"
     ]
    }
   ],
   "source": [
    "cleaned_content = re.search(r'<think>(.*?)</think>', respone.content, re.DOTALL).group(1)\n",
    "print(cleaned_content)"
   ]
  },
  {
   "cell_type": "code",
   "execution_count": 10,
   "metadata": {},
   "outputs": [],
   "source": [
    "with open(\"complexity.txt\", \"w\") as file:\n",
    "    file.write(respone.content)"
   ]
  }
 ],
 "metadata": {
  "kernelspec": {
   "display_name": "venv",
   "language": "python",
   "name": "python3"
  },
  "language_info": {
   "codemirror_mode": {
    "name": "ipython",
    "version": 3
   },
   "file_extension": ".py",
   "mimetype": "text/x-python",
   "name": "python",
   "nbconvert_exporter": "python",
   "pygments_lexer": "ipython3",
   "version": "3.10.0"
  }
 },
 "nbformat": 4,
 "nbformat_minor": 2
}
