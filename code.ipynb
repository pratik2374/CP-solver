{
 "cells": [
  {
   "cell_type": "code",
   "execution_count": 6,
   "metadata": {},
   "outputs": [],
   "source": [
    "groq_api_key=\"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\""
   ]
  },
  {
   "cell_type": "code",
   "execution_count": 3,
   "metadata": {},
   "outputs": [],
   "source": [
    "mistal = \"mixtral-8x7b-32768\"\n",
    "deepseek = \"Deepseek-r1-distill-llama-70b\"\n",
    "qwen=\"qwen-2.5-coder-32b\""
   ]
  },
  {
   "cell_type": "code",
   "execution_count": 4,
   "metadata": {},
   "outputs": [],
   "source": [
    "model= deepseek"
   ]
  },
  {
   "cell_type": "code",
   "execution_count": 7,
   "metadata": {},
   "outputs": [
    {
     "data": {
      "text/plain": [
       "ChatGroq(client=<groq.resources.chat.completions.Completions object at 0x000002529E05E4D0>, async_client=<groq.resources.chat.completions.AsyncCompletions object at 0x000002529E05F880>, model_name='Deepseek-r1-distill-llama-70b', model_kwargs={}, groq_api_key=SecretStr('**********'))"
      ]
     },
     "execution_count": 7,
     "metadata": {},
     "output_type": "execute_result"
    }
   ],
   "source": [
    "from langchain_groq import ChatGroq\n",
    "model=ChatGroq(model=model,groq_api_key=groq_api_key)\n",
    "model"
   ]
  },
  {
   "cell_type": "code",
   "execution_count": 91,
   "metadata": {},
   "outputs": [],
   "source": [
    "from langchain_core.prompts import ChatPromptTemplate,MessagesPlaceholder\n",
    "language=\"C\"\n",
    "from langchain_core.messages import HumanMessage\n",
    "prompt=ChatPromptTemplate.from_messages(\n",
    "    [\n",
    "        (\"system\",f\"You are a student who solves Coding problems in {language} language. You have to solve a problem with two modules brute force and optimized approach approach in single programme. with proper modules and main function.you have to give just code no explantion, no comments is needed.\"),\n",
    "        MessagesPlaceholder(variable_name=\"messages\")\n",
    "    ]\n",
    ")\n",
    "\n",
    "chain=prompt|model\n",
    "\n",
    "respone = chain.invoke({\"messages\":[HumanMessage(content=\n",
    "                                       \"Given an array nums with n objects colored red, white, or blue, sort them in-place so that objects of the same color are adjacent, with the colors in the order red, white, and blue.\"\n",
    "                                        \"We will use the integers 0, 1, and 2 to represent the color red, white, and blue, respectively.\"\n",
    "                                       )\n",
    "                        ]\n",
    "             }\n",
    "            )"
   ]
  },
  {
   "cell_type": "code",
   "execution_count": 92,
   "metadata": {},
   "outputs": [
    {
     "data": {
      "text/plain": [
       "'<think>\\nOkay, so I have to solve this problem where I have an array of integers representing colors—0 for red, 1 for white, and 2 for blue. The task is to sort them in-place such that all reds come first, followed by whites, and then blues. And I need to do this in a single C program with two modules: a brute force approach and an optimized one, each in their own functions, and a main function to handle them.\\n\\nFirst, I\\'ll think about the brute force method. That\\'s probably the simpler one. For brute force, the idea is to count how many of each color there are and then reconstruct the array. So, I can create three counters: count0, count1, count2. I\\'ll loop through the array once, incrementing each counter based on the value of each element. Then, I\\'ll loop through the array again, filling in the 0s first, then 1s, then 2s. This should give me the sorted array.\\n\\nNext, the optimized approach. The Dutch National Flag algorithm comes to mind. This method is efficient because it does it in a single pass with constant space. The idea is to have three pointers: low, mid, and high. The low pointer starts at the beginning, mid starts at 0, and high at the end. As we iterate with mid, if we find a 0, we swap it with low and increment both low and mid. If we find a 2, we swap it with high and decrement high. If it\\'s a 1, we just increment mid. This way, all 0s end up before 1s, which are before 2s.\\n\\nNow, structuring the code. I\\'ll need to include the necessary headers, like stdio.h for input and output functions, and stdlib.h for malloc and swapping. The functions will be called brute_force and optimized. The main function will read the input, possibly run both functions, and then print the results. Wait, but since the problem says to sort in-place, I have to make sure that each function modifies the original array.\\n\\nWait, but how do I handle the input? Oh, right, the user will provide the array, so in the code, I\\'ll need to read the array size and the elements. So in the main function, I\\'ll read n, then read n integers into an array. Then, I\\'ll probably make copies of this array so that each sorting function works on its own copy without interfering with the other. Or wait, no—since the functions are supposed to sort in-place, maybe each function should work on the same array. Hmm, but if I run one after the other, the second sorting might mess up the first. So perhaps I should create copies of the array for each function to sort separately.\\n\\nWait, the problem says to solve it in a single program with two modules. So maybe the main function will have the original array, and each function will take the array as input and sort it. So I\\'ll have to pass the array to each function, and they will modify it. But if I run both functions, the second one will sort an already sorted array, which might not be a problem, but perhaps the problem expects each function to work independently. Alternatively, maybe the main function should make copies so that each function sorts a copy, leaving the original intact. Hmm, but the problem says to sort in-place, so each function should modify the array it\\'s given.\\n\\nSo, in the main function, I\\'ll read the array, then create two copies: one for the brute force method and one for the optimized. Then, each function sorts its respective copy, and then I\\'ll print both sorted arrays. That way, each function works on its own copy without interfering.\\n\\nWait, but the problem says \"in a single program with two modules\", so perhaps the functions are called in sequence. But I\\'m not sure. Maybe the main function will call both functions, each taking the array and sorting it. But in that case, the second function would be sorting an already sorted array. That\\'s not a problem for the algorithms, but perhaps the problem expects each function to sort the array independently. So making copies is better.\\n\\nSo, in the main function, after reading the original array, I\\'ll create two copies: one for the brute force function and one for the optimized function. Each function will sort their respective copy, and then I\\'ll print both results.\\n\\nWait, but the problem says \"solve the problem with two modules brute force and optimized approach approach in a single programme\". So perhaps the main function will have the array, and the two functions will sort the same array. But that\\'s not possible because once one function sorts it, the other would have to unsort it first. So making copies is necessary.\\n\\nSo, the plan is:\\n\\n1. Read the input array.\\n2. Create two copies of it: one for brute force and one for optimized.\\n3. Call brute_force on the first copy.\\n4. Call optimized on the second copy.\\n5. Print both sorted arrays.\\n\\nBut wait, the problem might expect that each function sorts the array in the same way, so perhaps the main function will have the array, and each function will sort it. But that would require that after the first function sorts it, the second function undoes it, which is not practical. So making copies is the way to go.\\n\\nNow, writing the functions.\\n\\nFor the brute force function:\\n\\n- Take the array and its size as parameters.\\n- Initialize count0, count1, count2 to 0.\\n- Loop through the array and count each element.\\n- Then, loop through the array again, filling 0s up to count0, then 1s up to count0 + count1, then 2s.\\n\\nFor the optimized function:\\n\\n- Use the Dutch National Flag algorithm.\\n- Initialize low=0, mid=0, high = n-1.\\n- While mid <= high:\\n   - If arr[mid] == 0: swap with low, increment low and mid.\\n   - Else if arr[mid] == 2: swap with high, decrement high.\\n   - Else: increment mid.\\n\\nWait, but in the optimized function, the array is being sorted in-place, so the function will modify the array passed to it.\\n\\nNow, the code structure:\\n\\nInclude necessary headers.\\n\\nDefine the brute_force function.\\n\\nDefine the optimized function.\\n\\nIn main:\\n\\nRead n.\\n\\nRead the array into nums.\\n\\nMake copy1 as a copy of nums for brute force.\\n\\nMake copy2 as a copy of nums for optimized.\\n\\nCall brute_force(copy1, n).\\n\\nCall optimized(copy2, n).\\n\\nPrint copy1 and copy2.\\n\\nWait, but in C, arrays are passed by reference, so when we pass them to functions, the functions can modify the original. So if I have the original array, and make two copies, each function can sort their respective copy.\\n\\nBut how to make copies in C. Since it\\'s an array of integers, I can use malloc to create new arrays and memcpy to copy the contents.\\n\\nSo in the main function:\\n\\nint* copy1 = malloc(n * sizeof(int));\\nint* copy2 = malloc(n * sizeof(int));\\nmemcpy(copy1, nums, n * sizeof(int));\\nmemcpy(copy2, nums, n * sizeof(int));\\n\\nThen pass copy1 to brute_force and copy2 to optimized.\\n\\nAfter that, print both arrays.\\n\\nBut wait, the problem says \"solve the problem with two modules brute force and optimized approach approach in single programme\". So perhaps the functions are called with the same array, but that\\'s not possible because once sorted, the other function can\\'t work. So making copies is necessary.\\n\\nNow, code:\\n\\nInclude stdio.h, stdlib.h.\\n\\nvoid brute_force(int* arr, int n) {\\n   int count0 = 0, count1 = 0, count2 = 0;\\n   for (int i = 0; i < n; i++) {\\n      if (arr[i] == 0) count0++;\\n      else if (arr[i] == 1) count1++;\\n      else count2++;\\n   }\\n   int index = 0;\\n   for (int i = 0; i < count0; i++) {\\n      arr[index++] = 0;\\n   }\\n   for (int i = 0; i < count1; i++) {\\n      arr[index++] = 1;\\n   }\\n   for (int i = 0; i < count2; i++) {\\n      arr[index++] = 2;\\n   }\\n}\\n\\nvoid optimized(int* arr, int n) {\\n   int low = 0, mid = 0, high = n - 1;\\n   while (mid <= high) {\\n      if (arr[mid] == 0) {\\n         swap(&arr[low], &arr[mid]);\\n         low++;\\n         mid++;\\n      } else if (arr[mid] == 2) {\\n         swap(&arr[mid], &arr[high]);\\n         high--;\\n      } else {\\n         mid++;\\n      }\\n   }\\n}\\n\\nint main() {\\n   int n;\\n   printf(\"Enter the size of the array: \");\\n   scanf(\"%d\", &n);\\n   int* nums = malloc(n * sizeof(int));\\n   printf(\"Enter the array elements: \");\\n   for (int i = 0; i < n; i++) {\\n      scanf(\"%d\", &nums[i]);\\n   }\\n   \\n   int* copy1 = malloc(n * sizeof(int));\\n   int* copy2 = malloc(n * sizeof(int));\\n   memcpy(copy1, nums, n * sizeof(int));\\n   memcpy(copy2, nums, n * sizeof(int));\\n   \\n   brute_force(copy1, n);\\n   optimized(copy2, n);\\n   \\n   printf(\"Brute Force Sorted Array: \");\\n   for (int i = 0; i < n; i++) {\\n      printf(\"%d \", copy1[i]);\\n   }\\n   printf(\"\\\\n\");\\n   \\n   printf(\"Optimized Sorted Array: \");\\n   for (int i = 0; i < n; i++) {\\n      printf(\"%d \", copy2[i]);\\n   }\\n   printf(\"\\\\n\");\\n   \\n   free(nums);\\n   free(copy1);\\n   free(copy2);\\n   return 0;\\n}\\n\\nWait, but in the optimized function, I used swap, which is from stdlib.h, so I need to include that.\\n\\nYes, so the code includes stdlib.h for swap and malloc.\\n\\nWait, but in C, the swap function isn\\'t directly available. Oh wait, no, I have to implement the swap myself. Because in C, there\\'s no built-in swap function for variables. So I have to write a helper function or use a macro.\\n\\nSo I should write a swap function.\\n\\nSo adding:\\n\\nvoid swap(int* a, int* b) {\\n   int temp = *a;\\n   *a = *b;\\n   *b = temp;\\n}\\n\\nAnd include it before the optimized function.\\n\\nSo, the complete code would have that.\\n\\nWait, but in the code I wrote earlier, I used swap(&arr[low], &arr[mid]), which would work if I have the swap function defined.\\n\\nSo, putting it all together.\\n\\nNow, testing: let\\'s say the input is [2,0,2,1,1,0]. The brute force would count 2 zeros, 2 ones, 2 twos. So the sorted array would be [0,0,1,1,2,2]. The optimized function should also produce the same.\\n\\nAnother test case: [0,1,2,0,1,2]. Both functions should sort it correctly.\\n\\nI think that\\'s the plan. Now, writing the code accordingly.\\n</think>\\n\\nTo solve this problem, we need to sort an array of integers where each integer represents a color (0 for red, 1 for white, and 2 for blue) in-place such that all reds come first, followed by whites, and then blues. We will implement two approaches: a brute force method and an optimized method using the Dutch National Flag algorithm.\\n\\n### Approach\\n1. **Brute Force Method**:\\n   - **Counting Occurrences**: First, we count the occurrences of each color (0, 1, and 2) in the array.\\n   - **Reconstructing the Array**: Using these counts, we reconstruct the array by filling in the 0s first, followed by 1s, and then 2s.\\n\\n2. **Optimized Method (Dutch National Flag Algorithm)**:\\n   - **Three Pointers Technique**: We use three pointers (low, mid, and high) to partition the array into three sections. The low pointer starts at the beginning, the mid pointer iterates through the array, and the high pointer starts at the end.\\n   - **Swapping Elements**: As we iterate with the mid pointer, we swap elements to place all 0s before 1s and all 1s before 2s. Specifically, if we encounter a 0, we swap it with the element at the low pointer and increment both low and mid. If we encounter a 2, we swap it with the element at the high pointer and decrement the high pointer. If we encounter a 1, we simply move the mid pointer forward.\\n\\n### Solution Code\\n```c\\n#include <stdio.h>\\n#include <stdlib.h>\\n#include <string.h>\\n\\nvoid swap(int* a, int* b) {\\n    int temp = *a;\\n    *a = *b;\\n    *b = temp;\\n}\\n\\nvoid brute_force(int* arr, int n) {\\n    int count0 = 0, count1 = 0, count2 = 0;\\n    for (int i = 0; i < n; i++) {\\n        if (arr[i] == 0) count0++;\\n        else if (arr[i] == 1) count1++;\\n        else count2++;\\n    }\\n    int index = 0;\\n    for (int i = 0; i < count0; i++) {\\n        arr[index++] = 0;\\n    }\\n    for (int i = 0; i < count1; i++) {\\n        arr[index++] = 1;\\n    }\\n    for (int i = 0; i < count2; i++) {\\n        arr[index++] = 2;\\n    }\\n}\\n\\nvoid optimized(int* arr, int n) {\\n    int low = 0, mid = 0, high = n - 1;\\n    while (mid <= high) {\\n        if (arr[mid] == 0) {\\n            swap(&arr[low], &arr[mid]);\\n            low++;\\n            mid++;\\n        } else if (arr[mid] == 2) {\\n            swap(&arr[mid], &arr[high]);\\n            high--;\\n        } else {\\n            mid++;\\n        }\\n    }\\n}\\n\\nint main() {\\n    int n;\\n    printf(\"Enter the size of the array: \");\\n    scanf(\"%d\", &n);\\n    int* nums = (int*) malloc(n * sizeof(int));\\n    printf(\"Enter the array elements: \");\\n    for (int i = 0; i < n; i++) {\\n        scanf(\"%d\", &nums[i]);\\n    }\\n    \\n    int* copy1 = (int*) malloc(n * sizeof(int));\\n    int* copy2 = (int*) malloc(n * sizeof(int));\\n    memcpy(copy1, nums, n * sizeof(int));\\n    memcpy(copy2, nums, n * sizeof(int));\\n    \\n    brute_force(copy1, n);\\n    optimized(copy2, n);\\n    \\n    printf(\"Brute Force Sorted Array: \");\\n    for (int i = 0; i < n; i++) {\\n        printf(\"%d \", copy1[i]);\\n    }\\n    printf(\"\\\\n\");\\n    \\n    printf(\"Optimized Sorted Array: \");\\n    for (int i = 0; i < n; i++) {\\n        printf(\"%d \", copy2[i]);\\n    }\\n    printf(\"\\\\n\");\\n    \\n    free(nums);\\n    free(copy1);\\n    free(copy2);\\n    return 0;\\n}\\n```\\n\\n### Explanation\\n- **Brute Force Method**: This method involves counting each color and then reconstructing the array based on these counts. It is straightforward but less efficient for large datasets as it involves multiple passes over the array.\\n- **Optimized Method (Dutch National Flag Algorithm)**: This method is more efficient as it sorts the array in a single pass using constant space. It effectively partitions the array into the required color sections using three pointers, ensuring optimal performance even for large arrays.'"
      ]
     },
     "execution_count": 92,
     "metadata": {},
     "output_type": "execute_result"
    }
   ],
   "source": [
    "respone.content"
   ]
  },
  {
   "cell_type": "code",
   "execution_count": 85,
   "metadata": {},
   "outputs": [],
   "source": [
    "import re"
   ]
  },
  {
   "cell_type": "code",
   "execution_count": 93,
   "metadata": {},
   "outputs": [
    {
     "name": "stdout",
     "output_type": "stream",
     "text": [
      "#include <stdio.h>\n",
      "#include <stdlib.h>\n",
      "#include <string.h>\n",
      "\n",
      "void swap(int* a, int* b) {\n",
      "    int temp = *a;\n",
      "    *a = *b;\n",
      "    *b = temp;\n",
      "}\n",
      "\n",
      "void brute_force(int* arr, int n) {\n",
      "    int count0 = 0, count1 = 0, count2 = 0;\n",
      "    for (int i = 0; i < n; i++) {\n",
      "        if (arr[i] == 0) count0++;\n",
      "        else if (arr[i] == 1) count1++;\n",
      "        else count2++;\n",
      "    }\n",
      "    int index = 0;\n",
      "    for (int i = 0; i < count0; i++) {\n",
      "        arr[index++] = 0;\n",
      "    }\n",
      "    for (int i = 0; i < count1; i++) {\n",
      "        arr[index++] = 1;\n",
      "    }\n",
      "    for (int i = 0; i < count2; i++) {\n",
      "        arr[index++] = 2;\n",
      "    }\n",
      "}\n",
      "\n",
      "void optimized(int* arr, int n) {\n",
      "    int low = 0, mid = 0, high = n - 1;\n",
      "    while (mid <= high) {\n",
      "        if (arr[mid] == 0) {\n",
      "            swap(&arr[low], &arr[mid]);\n",
      "            low++;\n",
      "            mid++;\n",
      "        } else if (arr[mid] == 2) {\n",
      "            swap(&arr[mid], &arr[high]);\n",
      "            high--;\n",
      "        } else {\n",
      "            mid++;\n",
      "        }\n",
      "    }\n",
      "}\n",
      "\n",
      "int main() {\n",
      "    int n;\n",
      "    printf(\"Enter the size of the array: \");\n",
      "    scanf(\"%d\", &n);\n",
      "    int* nums = (int*) malloc(n * sizeof(int));\n",
      "    printf(\"Enter the array elements: \");\n",
      "    for (int i = 0; i < n; i++) {\n",
      "        scanf(\"%d\", &nums[i]);\n",
      "    }\n",
      "    \n",
      "    int* copy1 = (int*) malloc(n * sizeof(int));\n",
      "    int* copy2 = (int*) malloc(n * sizeof(int));\n",
      "    memcpy(copy1, nums, n * sizeof(int));\n",
      "    memcpy(copy2, nums, n * sizeof(int));\n",
      "    \n",
      "    brute_force(copy1, n);\n",
      "    optimized(copy2, n);\n",
      "    \n",
      "    printf(\"Brute Force Sorted Array: \");\n",
      "    for (int i = 0; i < n; i++) {\n",
      "        printf(\"%d \", copy1[i]);\n",
      "    }\n",
      "    printf(\"\\n\");\n",
      "    \n",
      "    printf(\"Optimized Sorted Array: \");\n",
      "    for (int i = 0; i < n; i++) {\n",
      "        printf(\"%d \", copy2[i]);\n",
      "    }\n",
      "    printf(\"\\n\");\n",
      "    \n",
      "    free(nums);\n",
      "    free(copy1);\n",
      "    free(copy2);\n",
      "    return 0;\n",
      "}\n"
     ]
    }
   ],
   "source": [
    "cleaned_content = re.search(r'```c\\n(.*?)\\n```', respone.content, re.DOTALL).group(1)\n",
    "print(cleaned_content)"
   ]
  },
  {
   "cell_type": "code",
   "execution_count": 94,
   "metadata": {},
   "outputs": [],
   "source": [
    "with open(\"code.c\", \"w\") as file:\n",
    "    file.write(cleaned_content)"
   ]
  }
 ],
 "metadata": {
  "kernelspec": {
   "display_name": "Python 3",
   "language": "python",
   "name": "python3"
  },
  "language_info": {
   "codemirror_mode": {
    "name": "ipython",
    "version": 3
   },
   "file_extension": ".py",
   "mimetype": "text/x-python",
   "name": "python",
   "nbconvert_exporter": "python",
   "pygments_lexer": "ipython3",
   "version": "3.10.0"
  }
 },
 "nbformat": 4,
 "nbformat_minor": 2
}
